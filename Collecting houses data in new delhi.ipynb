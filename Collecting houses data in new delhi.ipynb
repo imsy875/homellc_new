{
 "cells": [
  {
   "cell_type": "code",
   "execution_count": 1,
   "metadata": {},
   "outputs": [],
   "source": [
    "#importing packages\n",
    "import selenium\n",
    "from selenium import webdriver"
   ]
  },
  {
   "cell_type": "code",
   "execution_count": 2,
   "metadata": {},
   "outputs": [],
   "source": [
    "#using webdriver of Chrome as I am using chrome browser\n",
    "driver=webdriver.Chrome(\"C://Program Files//chromedriver.exe\")"
   ]
  },
  {
   "cell_type": "code",
   "execution_count": 3,
   "metadata": {},
   "outputs": [],
   "source": [
    "#importing time package\n",
    "import time"
   ]
  },
  {
   "cell_type": "code",
   "execution_count": 44,
   "metadata": {},
   "outputs": [],
   "source": [
    "#navigating to the link\n",
    "a=driver.get(\"https://www.99acres.com/independent-house-in-delhi-ncr-ffid\")"
   ]
  },
  {
   "cell_type": "code",
   "execution_count": 45,
   "metadata": {},
   "outputs": [],
   "source": [
    "house_details=[]\n",
    "price=[]\n",
    "house=[]\n",
    "area=[]"
   ]
  },
  {
   "cell_type": "code",
   "execution_count": 46,
   "metadata": {},
   "outputs": [],
   "source": [
    "for i in driver.find_elements_by_xpath(\"//a[@class='body_med srpTuple__propertyName']/h2\"):  #scraping all the job titles using its xpath\n",
    "        house_details.append(i.text)\n",
    "for j in driver.find_elements_by_xpath(\"//table[@class='srpTuple__tupleTable']/tr[3]/td\"):\n",
    "        price.append(j.text)\n",
    "\n",
    "for i in range(0,76,3):\n",
    "    house.append(price[i])\n",
    "\n",
    "for i in range(1,76,3):\n",
    "    area.append(price[i])\n",
    "area.append(0)\n",
    "driver.find_element_by_xpath(\"//div[@class='Pagination__srpPagination']/a\").click()\n",
    "time.sleep(5)"
   ]
  },
  {
   "cell_type": "code",
   "execution_count": 47,
   "metadata": {},
   "outputs": [],
   "source": [
    "for i in range(9):\n",
    "    for i in driver.find_elements_by_xpath(\"//a[@class='body_med srpTuple__propertyName']/h2\"):  #scraping all the job titles using its xpath\n",
    "        house_details.append(i.text)\n",
    "    for j in driver.find_elements_by_xpath(\"//table[@class='srpTuple__tupleTable']/tr[3]/td\"):\n",
    "        price.append(j.text)\n",
    "\n",
    "    for i in range(0,76,3):\n",
    "        house.append(price[i])\n",
    "\n",
    "    for i in range(1,76,3):\n",
    "        area.append(price[i])\n",
    "    area.append(0)\n",
    "    time.sleep(3)\n",
    "    driver.find_element_by_xpath(\"//div[@class='Pagination__srpPagination']/a[2]\").click()\n",
    "    time.sleep(4)"
   ]
  },
  {
   "cell_type": "code",
   "execution_count": 8,
   "metadata": {},
   "outputs": [
    {
     "data": {
      "text/plain": [
       "26"
      ]
     },
     "execution_count": 8,
     "metadata": {},
     "output_type": "execute_result"
    }
   ],
   "source": [
    "len(house_details)"
   ]
  },
  {
   "cell_type": "code",
   "execution_count": 14,
   "metadata": {},
   "outputs": [],
   "source": [
    "import pandas as pd"
   ]
  },
  {
   "cell_type": "code",
   "execution_count": 48,
   "metadata": {},
   "outputs": [],
   "source": [
    "house_data= pd.DataFrame({'house':house_details,'price':house,'area':area})"
   ]
  },
  {
   "cell_type": "code",
   "execution_count": 49,
   "metadata": {},
   "outputs": [
    {
     "data": {
      "text/html": [
       "<div>\n",
       "<style scoped>\n",
       "    .dataframe tbody tr th:only-of-type {\n",
       "        vertical-align: middle;\n",
       "    }\n",
       "\n",
       "    .dataframe tbody tr th {\n",
       "        vertical-align: top;\n",
       "    }\n",
       "\n",
       "    .dataframe thead th {\n",
       "        text-align: right;\n",
       "    }\n",
       "</style>\n",
       "<table border=\"1\" class=\"dataframe\">\n",
       "  <thead>\n",
       "    <tr style=\"text-align: right;\">\n",
       "      <th></th>\n",
       "      <th>house</th>\n",
       "      <th>price</th>\n",
       "      <th>area</th>\n",
       "    </tr>\n",
       "  </thead>\n",
       "  <tbody>\n",
       "    <tr>\n",
       "      <th>0</th>\n",
       "      <td>5 Bedroom House for sale in Sector-128 Noida</td>\n",
       "      <td>₹ 2.95 Cr\\n₹ 5,589/sq.ft.</td>\n",
       "      <td>5,100 sq.ft.\\n(474 sq.m.) Built-up Area</td>\n",
       "    </tr>\n",
       "    <tr>\n",
       "      <th>1</th>\n",
       "      <td>8 Bedroom House for sale in Punjabi Bagh West</td>\n",
       "      <td>₹ 27 Cr\\n₹ 30,000/sq.ft.</td>\n",
       "      <td>9,000 sq.ft.\\n(836 sq.m.) Plot Area</td>\n",
       "    </tr>\n",
       "    <tr>\n",
       "      <th>2</th>\n",
       "      <td>4 Bedroom House for sale in Sector-27 Greater ...</td>\n",
       "      <td>₹ 2.16 - 3.88 Cr\\n₹ 7,150/sq.ft.</td>\n",
       "      <td>3,023-5,427 sq.ft.\\n(281-504 sq.m.) Built-up Area</td>\n",
       "    </tr>\n",
       "    <tr>\n",
       "      <th>3</th>\n",
       "      <td>4 Bedroom House for sale in Sector-27 Greater ...</td>\n",
       "      <td>₹ 1.98 - 5.29 Cr\\n₹ 8,400/sq.ft.</td>\n",
       "      <td>2,359-6,300 sq.ft.\\n(219-585 sq.m.) Built-up Area</td>\n",
       "    </tr>\n",
       "    <tr>\n",
       "      <th>4</th>\n",
       "      <td>4 Bedroom House for sale in Sector ZETA Gr Noida</td>\n",
       "      <td>₹ 1.05 - 1.48 Cr\\n₹ 4,650/sq.ft.</td>\n",
       "      <td>2,452-3,008 sq.ft.\\n(228-279 sq.m.) Built-up Area</td>\n",
       "    </tr>\n",
       "    <tr>\n",
       "      <th>...</th>\n",
       "      <td>...</td>\n",
       "      <td>...</td>\n",
       "      <td>...</td>\n",
       "    </tr>\n",
       "    <tr>\n",
       "      <th>255</th>\n",
       "      <td>7 Bedroom Independent House in Safdarjung Enclave</td>\n",
       "      <td>₹ 2.15 - 4.25 Cr\\n₹ 7,477/sq.ft.</td>\n",
       "      <td>3,023-5,427 sq.ft.\\n(281-504 sq.m.) Built-up Area</td>\n",
       "    </tr>\n",
       "    <tr>\n",
       "      <th>256</th>\n",
       "      <td>5 Bedroom Independent House in Sector-48 Gurgaon</td>\n",
       "      <td>₹ 3.15 - 6 Cr\\n₹ 8,174/sq.ft.</td>\n",
       "      <td>4,200-6,300 sq.ft.\\n(390-585 sq.m.) Built-up Area</td>\n",
       "    </tr>\n",
       "    <tr>\n",
       "      <th>257</th>\n",
       "      <td>5 Bedroom Independent House in Sector-66 Gurgaon</td>\n",
       "      <td>₹ 5 Cr\\n₹ 8,598/sq.ft.</td>\n",
       "      <td>5,815 sq.ft.\\n(540 sq.m.) Built-up Area</td>\n",
       "    </tr>\n",
       "    <tr>\n",
       "      <th>258</th>\n",
       "      <td>4 Bedroom Independent House in Priyadarshini V...</td>\n",
       "      <td>Price on Request</td>\n",
       "      <td>5,036-7,330 sq.ft.\\n(468-681 sq.m.) Built-up Area</td>\n",
       "    </tr>\n",
       "    <tr>\n",
       "      <th>259</th>\n",
       "      <td></td>\n",
       "      <td></td>\n",
       "      <td>0</td>\n",
       "    </tr>\n",
       "  </tbody>\n",
       "</table>\n",
       "<p>260 rows × 3 columns</p>\n",
       "</div>"
      ],
      "text/plain": [
       "                                                 house  \\\n",
       "0         5 Bedroom House for sale in Sector-128 Noida   \n",
       "1        8 Bedroom House for sale in Punjabi Bagh West   \n",
       "2    4 Bedroom House for sale in Sector-27 Greater ...   \n",
       "3    4 Bedroom House for sale in Sector-27 Greater ...   \n",
       "4     4 Bedroom House for sale in Sector ZETA Gr Noida   \n",
       "..                                                 ...   \n",
       "255  7 Bedroom Independent House in Safdarjung Enclave   \n",
       "256   5 Bedroom Independent House in Sector-48 Gurgaon   \n",
       "257   5 Bedroom Independent House in Sector-66 Gurgaon   \n",
       "258  4 Bedroom Independent House in Priyadarshini V...   \n",
       "259                                                      \n",
       "\n",
       "                                price  \\\n",
       "0           ₹ 2.95 Cr\\n₹ 5,589/sq.ft.   \n",
       "1            ₹ 27 Cr\\n₹ 30,000/sq.ft.   \n",
       "2    ₹ 2.16 - 3.88 Cr\\n₹ 7,150/sq.ft.   \n",
       "3    ₹ 1.98 - 5.29 Cr\\n₹ 8,400/sq.ft.   \n",
       "4    ₹ 1.05 - 1.48 Cr\\n₹ 4,650/sq.ft.   \n",
       "..                                ...   \n",
       "255  ₹ 2.15 - 4.25 Cr\\n₹ 7,477/sq.ft.   \n",
       "256     ₹ 3.15 - 6 Cr\\n₹ 8,174/sq.ft.   \n",
       "257            ₹ 5 Cr\\n₹ 8,598/sq.ft.   \n",
       "258                  Price on Request   \n",
       "259                                     \n",
       "\n",
       "                                                  area  \n",
       "0              5,100 sq.ft.\\n(474 sq.m.) Built-up Area  \n",
       "1                  9,000 sq.ft.\\n(836 sq.m.) Plot Area  \n",
       "2    3,023-5,427 sq.ft.\\n(281-504 sq.m.) Built-up Area  \n",
       "3    2,359-6,300 sq.ft.\\n(219-585 sq.m.) Built-up Area  \n",
       "4    2,452-3,008 sq.ft.\\n(228-279 sq.m.) Built-up Area  \n",
       "..                                                 ...  \n",
       "255  3,023-5,427 sq.ft.\\n(281-504 sq.m.) Built-up Area  \n",
       "256  4,200-6,300 sq.ft.\\n(390-585 sq.m.) Built-up Area  \n",
       "257            5,815 sq.ft.\\n(540 sq.m.) Built-up Area  \n",
       "258  5,036-7,330 sq.ft.\\n(468-681 sq.m.) Built-up Area  \n",
       "259                                                  0  \n",
       "\n",
       "[260 rows x 3 columns]"
      ]
     },
     "execution_count": 49,
     "metadata": {},
     "output_type": "execute_result"
    }
   ],
   "source": [
    "house_data"
   ]
  },
  {
   "cell_type": "code",
   "execution_count": 51,
   "metadata": {},
   "outputs": [],
   "source": [
    "house_data.to_csv(\"house.csv\", index=False)"
   ]
  },
  {
   "cell_type": "code",
   "execution_count": null,
   "metadata": {},
   "outputs": [],
   "source": []
  },
  {
   "cell_type": "code",
   "execution_count": null,
   "metadata": {},
   "outputs": [],
   "source": []
  },
  {
   "cell_type": "code",
   "execution_count": null,
   "metadata": {},
   "outputs": [],
   "source": []
  }
 ],
 "metadata": {
  "kernelspec": {
   "display_name": "Python 3",
   "language": "python",
   "name": "python3"
  },
  "language_info": {
   "codemirror_mode": {
    "name": "ipython",
    "version": 3
   },
   "file_extension": ".py",
   "mimetype": "text/x-python",
   "name": "python",
   "nbconvert_exporter": "python",
   "pygments_lexer": "ipython3",
   "version": "3.7.6"
  }
 },
 "nbformat": 4,
 "nbformat_minor": 4
}
